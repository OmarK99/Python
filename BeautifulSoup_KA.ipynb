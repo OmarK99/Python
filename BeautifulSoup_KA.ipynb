{
 "cells": [
  {
   "cell_type": "markdown",
   "id": "bda5d512",
   "metadata": {},
   "source": [
    "![](WS.jpg)"
   ]
  },
  {
   "cell_type": "markdown",
   "id": "b4eec855",
   "metadata": {},
   "source": [
    "## The Components of a Web Page"
   ]
  },
  {
   "cell_type": "markdown",
   "id": "b6b748ce",
   "metadata": {},
   "source": [
    "![](BS.jpg)"
   ]
  },
  {
   "cell_type": "code",
   "execution_count": 2,
   "id": "42e313e3",
   "metadata": {},
   "outputs": [],
   "source": [
    "from bs4 import BeautifulSoup"
   ]
  },
  {
   "cell_type": "code",
   "execution_count": 3,
   "id": "2c422db6",
   "metadata": {},
   "outputs": [
    {
     "name": "stdout",
     "output_type": "stream",
     "text": [
      "<html>\n",
      "<head>\n",
      "<title>A simple example page</title>\n",
      "</head>\n",
      "<body>\n",
      "<p>Here is some simple content for this page.</p>\n",
      "<div class=\"city\">\n",
      "<h2>London</h2>\n",
      "<p>London is the capital of England.</p>\n",
      "</div>\n",
      "<div class=\"country\">\n",
      "<h2>UK and England</h2>\n",
      "<p>England is one country, and the United Kingdom is four countries united together.</p>\n",
      "</div>\n",
      "</body>\n",
      "</html>\n",
      "<html>\n",
      " <head>\n",
      "  <title>\n",
      "   A simple example page\n",
      "  </title>\n",
      " </head>\n",
      " <body>\n",
      "  <p>\n",
      "   Here is some simple content for this page.\n",
      "  </p>\n",
      "  <div class=\"city\">\n",
      "   <h2>\n",
      "    London\n",
      "   </h2>\n",
      "   <p>\n",
      "    London is the capital of England.\n",
      "   </p>\n",
      "  </div>\n",
      "  <div class=\"country\">\n",
      "   <h2>\n",
      "    UK and England\n",
      "   </h2>\n",
      "   <p>\n",
      "    England is one country, and the United Kingdom is four countries united together.\n",
      "   </p>\n",
      "  </div>\n",
      " </body>\n",
      "</html>\n"
     ]
    }
   ],
   "source": [
    "str=\"\"\"<html>\n",
    "<head>\n",
    "<title>A simple example page</title>\n",
    "</head>\n",
    "<body>\n",
    "<p>Here is some simple content for this page.</p>\n",
    "<div class=\"city\">\n",
    "<h2>London</h2>\n",
    "<p>London is the capital of England.</p>\n",
    "</div>\n",
    "<div class=\"country\">\n",
    "<h2>UK and England</h2>\n",
    "<p>England is one country, and the United Kingdom is four countries united together.</p>\n",
    "</div>\n",
    "</body>\n",
    "</html>\"\"\"\n",
    "soup=BeautifulSoup(str,\"html.parser\")\n",
    "print(soup)\n",
    "print(soup.prettify())"
   ]
  },
  {
   "cell_type": "code",
   "execution_count": 4,
   "id": "509d8f7b",
   "metadata": {},
   "outputs": [
    {
     "data": {
      "text/plain": [
       "'\\nHere is some simple content for this page.\\n\\nLondon\\nLondon is the capital of England.\\n\\n\\nUK and England\\nEngland is one country, and the United Kingdom is four countries united together.\\n\\n'"
      ]
     },
     "execution_count": 4,
     "metadata": {},
     "output_type": "execute_result"
    }
   ],
   "source": [
    "soup.body.text"
   ]
  },
  {
   "cell_type": "code",
   "execution_count": 5,
   "id": "a3d363c4",
   "metadata": {},
   "outputs": [
    {
     "data": {
      "text/plain": [
       "'London'"
      ]
     },
     "execution_count": 5,
     "metadata": {},
     "output_type": "execute_result"
    }
   ],
   "source": [
    "soup.h2.text"
   ]
  },
  {
   "cell_type": "code",
   "execution_count": 6,
   "id": "aca0551f",
   "metadata": {},
   "outputs": [
    {
     "data": {
      "text/plain": [
       "'UK and England'"
      ]
     },
     "execution_count": 6,
     "metadata": {},
     "output_type": "execute_result"
    }
   ],
   "source": [
    "soup.find(\"div\",class_=\"country\").h2.text"
   ]
  },
  {
   "cell_type": "code",
   "execution_count": 7,
   "id": "f9302030",
   "metadata": {},
   "outputs": [
    {
     "data": {
      "text/plain": [
       "'England is one country, and the United Kingdom is four countries united together.'"
      ]
     },
     "execution_count": 7,
     "metadata": {},
     "output_type": "execute_result"
    }
   ],
   "source": [
    "soup.find(\"div\",class_=\"country\").p.text"
   ]
  },
  {
   "cell_type": "code",
   "execution_count": 8,
   "id": "71439f56",
   "metadata": {},
   "outputs": [
    {
     "ename": "FileNotFoundError",
     "evalue": "[Errno 2] No such file or directory: 'Test1.html'",
     "output_type": "error",
     "traceback": [
      "\u001b[1;31m---------------------------------------------------------------------------\u001b[0m",
      "\u001b[1;31mFileNotFoundError\u001b[0m                         Traceback (most recent call last)",
      "\u001b[1;32m<ipython-input-8-e48b09ff26f3>\u001b[0m in \u001b[0;36m<module>\u001b[1;34m\u001b[0m\n\u001b[1;32m----> 1\u001b[1;33m \u001b[1;32mwith\u001b[0m \u001b[0mopen\u001b[0m\u001b[1;33m(\u001b[0m\u001b[1;34m\"Test1.html\"\u001b[0m\u001b[1;33m,\u001b[0m\u001b[1;34m\"r\"\u001b[0m\u001b[1;33m)\u001b[0m \u001b[1;32mas\u001b[0m \u001b[0mhtml_doc\u001b[0m\u001b[1;33m:\u001b[0m\u001b[1;33m\u001b[0m\u001b[1;33m\u001b[0m\u001b[0m\n\u001b[0m\u001b[0;32m      2\u001b[0m     \u001b[0msoup\u001b[0m\u001b[1;33m=\u001b[0m\u001b[0mBeautifulSoup\u001b[0m\u001b[1;33m(\u001b[0m\u001b[0mhtml_doc\u001b[0m\u001b[1;33m,\u001b[0m\u001b[1;34m\"html.parser\"\u001b[0m\u001b[1;33m)\u001b[0m\u001b[1;33m\u001b[0m\u001b[1;33m\u001b[0m\u001b[0m\n\u001b[0;32m      3\u001b[0m \u001b[1;31m#print(soup.prettify())\u001b[0m\u001b[1;33m\u001b[0m\u001b[1;33m\u001b[0m\u001b[1;33m\u001b[0m\u001b[0m\n\u001b[0;32m      4\u001b[0m \u001b[0mprint\u001b[0m\u001b[1;33m(\u001b[0m\u001b[0msoup\u001b[0m\u001b[1;33m)\u001b[0m\u001b[1;33m\u001b[0m\u001b[1;33m\u001b[0m\u001b[0m\n",
      "\u001b[1;31mFileNotFoundError\u001b[0m: [Errno 2] No such file or directory: 'Test1.html'"
     ]
    }
   ],
   "source": [
    "with open(\"Test1.html\",\"r\") as html_doc:\n",
    "    soup=BeautifulSoup(html_doc,\"html.parser\") \n",
    "#print(soup.prettify())\n",
    "print(soup)"
   ]
  },
  {
   "cell_type": "code",
   "execution_count": 9,
   "id": "c1489567",
   "metadata": {},
   "outputs": [
    {
     "data": {
      "text/plain": [
       "'Here is some simple content for this page.'"
      ]
     },
     "execution_count": 9,
     "metadata": {},
     "output_type": "execute_result"
    }
   ],
   "source": [
    "soup.head\n",
    "soup.title\n",
    "soup.body\n",
    "soup.body.p.text"
   ]
  },
  {
   "cell_type": "code",
   "execution_count": 10,
   "id": "d436fcb7",
   "metadata": {},
   "outputs": [
    {
     "data": {
      "text/plain": [
       "<p>Here is some simple content for this page.</p>"
      ]
     },
     "execution_count": 10,
     "metadata": {},
     "output_type": "execute_result"
    }
   ],
   "source": [
    "soup.p"
   ]
  },
  {
   "cell_type": "code",
   "execution_count": 11,
   "id": "80b5dd7a",
   "metadata": {},
   "outputs": [
    {
     "data": {
      "text/plain": [
       "'Here is some simple content for this page.'"
      ]
     },
     "execution_count": 11,
     "metadata": {},
     "output_type": "execute_result"
    }
   ],
   "source": [
    "soup.p.text"
   ]
  },
  {
   "cell_type": "code",
   "execution_count": 14,
   "id": "eb3942a2",
   "metadata": {},
   "outputs": [],
   "source": [
    "import requests\n",
    "url = 'https://www.google.ca/'\n",
    "reqs = requests.get(\"https://ravindrababuravula.com/courses.php\")\n",
    "soup = BeautifulSoup(reqs.text, 'lxml')"
   ]
  },
  {
   "cell_type": "code",
   "execution_count": 15,
   "id": "02a342e7",
   "metadata": {},
   "outputs": [
    {
     "data": {
      "text/plain": [
       "'\\n\\n\\n\\n\\n\\n\\ngate2014.ravindra@gmail.com\\n\\n\\n\\n\\n\\n\\n\\n\\n\\n\\n\\n\\n\\n\\n\\n\\n\\n\\n\\n\\n\\n\\n\\n\\n\\n\\n\\n\\n\\n\\nHome\\nCourses\\nCourses\\n\\n\\nGATE-2022\\nGATE-2023\\n\\n\\n\\n\\n\\n\\n\\n\\nTestimonials\\n\\n\\n\\nFAQ\\nAbout\\n\\nContact us\\n\\n\\n\\n\\n\\n\\n\\n\\n\\n\\n\\n\\n Courses\\n\\n\\n\\n\\n\\n\\n\\n\\nGATE\\nEvery subject is taught from scratch and contains concepts, solved examples, important previous year GATE questions, practice questions and the test series\\nlearn now\\n\\n\\nlearn now\\n\\n\\n\\n\\n\\n\\nJob Interview Preparation \\nIt is a mix of theory and practice. we will explain all the possible ways to solve a problem and analyse each solution using Time & Space Complexity.\\nlearn now\\n\\n\\nlearn now\\n\\n\\n\\n\\n\\n\\nTechnologies\\nWe chose the Trending Technologies which are high in demand in the job market. Hybrid teaching style with the help of conventional white board and the digital screen for easy understanding.\\nlearn now\\n\\n\\nlearn now\\n\\n\\n\\n\\n\\n\\n\\n\\n\\n\\n\\n\\n\\n\\n\\n\\n\\n\\n\\n\\n\\n\\n\\n\\n\\nAbout\\nFAQ\\nRegister\\nPrivacy Policy\\n\\n\\n  gate2014.ravindra@gmail.com\\nRaudra Eduservices Pvt. Ltd. © 2019\\n\\n\\n\\n\\n\\n\\n\\n\\n\\n\\n\\n\\n\\n\\n\\n\\n\\n'"
      ]
     },
     "execution_count": 15,
     "metadata": {},
     "output_type": "execute_result"
    }
   ],
   "source": [
    "soup.body.text\n"
   ]
  },
  {
   "cell_type": "code",
   "execution_count": 17,
   "id": "e3efed82",
   "metadata": {},
   "outputs": [
    {
     "data": {
      "text/plain": [
       "'GATE'"
      ]
     },
     "execution_count": 17,
     "metadata": {},
     "output_type": "execute_result"
    }
   ],
   "source": [
    "soup.find(\"div\", class_=\"edugate-content\").a.text"
   ]
  },
  {
   "cell_type": "code",
   "execution_count": 19,
   "id": "c6c2148c",
   "metadata": {},
   "outputs": [
    {
     "name": "stdout",
     "output_type": "stream",
     "text": [
      "GATE\n",
      "Job Interview Preparation \n",
      "Technologies\n"
     ]
    }
   ],
   "source": [
    "for trip in soup.find_all(\"div\", class_=\"edugate-content\"):\n",
    "    print(trip.a.text)"
   ]
  },
  {
   "cell_type": "code",
   "execution_count": 21,
   "id": "7a4662b3",
   "metadata": {},
   "outputs": [
    {
     "name": "stdout",
     "output_type": "stream",
     "text": [
      "Every subject is taught from scratch and contains concepts, solved examples, important previous year GATE questions, practice questions and the test series \n",
      "\n",
      "It is a mix of theory and practice. we will explain all the possible ways to solve a problem and analyse each solution using Time & Space Complexity. \n",
      "\n",
      "We chose the Trending Technologies which are high in demand in the job market. Hybrid teaching style with the help of conventional white board and the digital screen for easy understanding. \n",
      "\n"
     ]
    }
   ],
   "source": [
    "for two in soup.find_all(\"div\", class_=\"description\"):\n",
    "    print(two.text, \"\\n\")"
   ]
  },
  {
   "cell_type": "code",
   "execution_count": 22,
   "id": "d1ac7e13",
   "metadata": {},
   "outputs": [
    {
     "name": "stdout",
     "output_type": "stream",
     "text": [
      "Every subject is taught from scratch and contains concepts, solved examples, important previous year GATE questions, practice questions and the test series \n",
      "\n",
      "It is a mix of theory and practice. we will explain all the possible ways to solve a problem and analyse each solution using Time & Space Complexity. \n",
      "\n",
      "We chose the Trending Technologies which are high in demand in the job market. Hybrid teaching style with the help of conventional white board and the digital screen for easy understanding. \n",
      "\n"
     ]
    },
    {
     "data": {
      "text/plain": [
       "['Every subject is taught from scratch and contains concepts, solved examples, important previous year GATE questions, practice questions and the test series',\n",
       " 'It is a mix of theory and practice. we will explain all the possible ways to solve a problem and analyse each solution using Time & Space Complexity.',\n",
       " 'We chose the Trending Technologies which are high in demand in the job market. Hybrid teaching style with the help of conventional white board and the digital screen for easy understanding.']"
      ]
     },
     "execution_count": 22,
     "metadata": {},
     "output_type": "execute_result"
    }
   ],
   "source": [
    "d=[]\n",
    "for b in soup.find_all(\"div\", class_=\"description\"):\n",
    "    print(b.text, \"\\n\")\n",
    "    d.append(b.text) \n",
    "d"
   ]
  },
  {
   "cell_type": "code",
   "execution_count": 23,
   "id": "e6400f92",
   "metadata": {},
   "outputs": [
    {
     "name": "stdout",
     "output_type": "stream",
     "text": [
      "GATE\n",
      "Every subject is taught from scratch and contains concepts, solved examples, important previous year GATE questions, practice questions and the test series\n",
      "learn now\n",
      " \n",
      "\n",
      "Job Interview Preparation \n",
      "It is a mix of theory and practice. we will explain all the possible ways to solve a problem and analyse each solution using Time & Space Complexity.\n",
      "learn now\n",
      " \n",
      "\n",
      "Technologies\n",
      "We chose the Trending Technologies which are high in demand in the job market. Hybrid teaching style with the help of conventional white board and the digital screen for easy understanding.\n",
      "learn now\n",
      " \n",
      "\n"
     ]
    },
    {
     "data": {
      "text/plain": [
       "'Job Interview Preparation \\nIt is a mix of theory and practice. we will explain all the possible ways to solve a problem and analyse each solution using Time & Space Complexity.\\nlearn now\\n'"
      ]
     },
     "execution_count": 23,
     "metadata": {},
     "output_type": "execute_result"
    }
   ],
   "source": [
    "c=[]\n",
    "for a in soup.find_all(\"div\", class_=\"edugate-content\"):\n",
    "    print(a.text, \"\\n\")\n",
    "    c.append(a.text)\n",
    "    \n",
    "c\n",
    "c[1]"
   ]
  },
  {
   "cell_type": "code",
   "execution_count": 26,
   "id": "2df34377",
   "metadata": {},
   "outputs": [
    {
     "data": {
      "text/html": [
       "<div>\n",
       "<style scoped>\n",
       "    .dataframe tbody tr th:only-of-type {\n",
       "        vertical-align: middle;\n",
       "    }\n",
       "\n",
       "    .dataframe tbody tr th {\n",
       "        vertical-align: top;\n",
       "    }\n",
       "\n",
       "    .dataframe thead th {\n",
       "        text-align: right;\n",
       "    }\n",
       "</style>\n",
       "<table border=\"1\" class=\"dataframe\">\n",
       "  <thead>\n",
       "    <tr style=\"text-align: right;\">\n",
       "      <th></th>\n",
       "      <th>0</th>\n",
       "      <th>1</th>\n",
       "    </tr>\n",
       "  </thead>\n",
       "  <tbody>\n",
       "    <tr>\n",
       "      <th>0</th>\n",
       "      <td>GATE\\nEvery subject is taught from scratch and...</td>\n",
       "      <td>Every subject is taught from scratch and conta...</td>\n",
       "    </tr>\n",
       "    <tr>\n",
       "      <th>1</th>\n",
       "      <td>Job Interview Preparation \\nIt is a mix of the...</td>\n",
       "      <td>It is a mix of theory and practice. we will ex...</td>\n",
       "    </tr>\n",
       "    <tr>\n",
       "      <th>2</th>\n",
       "      <td>Technologies\\nWe chose the Trending Technologi...</td>\n",
       "      <td>We chose the Trending Technologies which are h...</td>\n",
       "    </tr>\n",
       "  </tbody>\n",
       "</table>\n",
       "</div>"
      ],
      "text/plain": [
       "                                                   0  \\\n",
       "0  GATE\\nEvery subject is taught from scratch and...   \n",
       "1  Job Interview Preparation \\nIt is a mix of the...   \n",
       "2  Technologies\\nWe chose the Trending Technologi...   \n",
       "\n",
       "                                                   1  \n",
       "0  Every subject is taught from scratch and conta...  \n",
       "1  It is a mix of theory and practice. we will ex...  \n",
       "2  We chose the Trending Technologies which are h...  "
      ]
     },
     "execution_count": 26,
     "metadata": {},
     "output_type": "execute_result"
    }
   ],
   "source": [
    "import pandas as pd\n",
    "e= pd.DataFrame(list(zip(c,d)))\n",
    "e\n"
   ]
  },
  {
   "cell_type": "code",
   "execution_count": null,
   "id": "e26a5694",
   "metadata": {},
   "outputs": [],
   "source": []
  }
 ],
 "metadata": {
  "kernelspec": {
   "display_name": "Python 3",
   "language": "python",
   "name": "python3"
  },
  "language_info": {
   "codemirror_mode": {
    "name": "ipython",
    "version": 3
   },
   "file_extension": ".py",
   "mimetype": "text/x-python",
   "name": "python",
   "nbconvert_exporter": "python",
   "pygments_lexer": "ipython3",
   "version": "3.8.8"
  }
 },
 "nbformat": 4,
 "nbformat_minor": 5
}
