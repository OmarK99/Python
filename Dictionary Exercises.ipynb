{
 "cells": [
  {
   "cell_type": "code",
   "execution_count": 2,
   "id": "304372df",
   "metadata": {},
   "outputs": [
    {
     "name": "stdout",
     "output_type": "stream",
     "text": [
      "{'no': 'Noel', 'na': 'Navneet', 'os': 'Osman', 'om': 'Omar', 'mu': 'muhammad'}\n"
     ]
    }
   ],
   "source": [
    "classdict = {\n",
    "  \"no\": \"Noel\",\n",
    "  \"na\": \"Navneet\",\n",
    "  \"os\": \"Osman\",\n",
    "  \"om\" :\"Omar\",\n",
    "  \"mu\": \"Muhammad\"\n",
    "    \n",
    "}\n",
    "print(classdict)"
   ]
  },
  {
   "cell_type": "code",
   "execution_count": 10,
   "id": "cc43087a",
   "metadata": {},
   "outputs": [
    {
     "name": "stdout",
     "output_type": "stream",
     "text": [
      "dict_keys(['no', 'na', 'os', 'om', 'mu'])\n"
     ]
    }
   ],
   "source": [
    "\n",
    "print(classdict.keys())"
   ]
  },
  {
   "cell_type": "code",
   "execution_count": 9,
   "id": "21652a7a",
   "metadata": {},
   "outputs": [
    {
     "name": "stdout",
     "output_type": "stream",
     "text": [
      "dict_values(['Noel', 'Navneet', 'Osman', 'Omar', 'muhammad'])\n"
     ]
    }
   ],
   "source": [
    "\n",
    "print(classdict.values())"
   ]
  },
  {
   "cell_type": "code",
   "execution_count": 11,
   "id": "3cc1b92c",
   "metadata": {},
   "outputs": [
    {
     "data": {
      "text/plain": [
       "False"
      ]
     },
     "execution_count": 11,
     "metadata": {},
     "output_type": "execute_result"
    }
   ],
   "source": [
    "b='JIMCA'\n",
    "all(a in classdict for a in b)"
   ]
  },
  {
   "cell_type": "code",
   "execution_count": 16,
   "id": "6971f90e",
   "metadata": {},
   "outputs": [
    {
     "name": "stdout",
     "output_type": "stream",
     "text": [
      "dict_values(['Noel', 'Navneet', 'Osman', 'Omar', 'muhammad', 'Kristina', 'Kristina'])\n"
     ]
    }
   ],
   "source": [
    "classdict.update({\"K\":\"Kristina\"})\n",
    "classdict.update({\"PD\":\"Kristina\"})\n",
    "print(classdict.values())"
   ]
  },
  {
   "cell_type": "code",
   "execution_count": 17,
   "id": "f2e6b7c6",
   "metadata": {},
   "outputs": [
    {
     "data": {
      "text/plain": [
       "7"
      ]
     },
     "execution_count": 17,
     "metadata": {},
     "output_type": "execute_result"
    }
   ],
   "source": [
    "len(classdict)"
   ]
  },
  {
   "cell_type": "code",
   "execution_count": 20,
   "id": "6136c477",
   "metadata": {},
   "outputs": [
    {
     "name": "stdout",
     "output_type": "stream",
     "text": [
      "dict_values(['Noel', 'Navneet', 'Osman', 'Omar', 'muhammad', 'Kristina', 'Kristina', 'Sarah', 'Sarah'])\n"
     ]
    }
   ],
   "source": [
    "classdict.update({\"S\":\"Sarah\"})\n",
    "classdict.update({\"Instructor\":\"Sarah\"})\n",
    "print(classdict.values())\n"
   ]
  },
  {
   "cell_type": "code",
   "execution_count": 21,
   "id": "d400f644",
   "metadata": {},
   "outputs": [
    {
     "data": {
      "text/plain": [
       "9"
      ]
     },
     "execution_count": 21,
     "metadata": {},
     "output_type": "execute_result"
    }
   ],
   "source": [
    "len(classdict)\n"
   ]
  },
  {
   "cell_type": "code",
   "execution_count": 44,
   "id": "756f0900",
   "metadata": {},
   "outputs": [],
   "source": [
    "synonyms_dic = {\n",
    "  \"bad\": \"awful\",\n",
    "  \"good\": \"great\",\n",
    "  \"awesome\": \"amazing\",\n",
    "  \"cold\" :\"frigid\",\n",
    "  \"easy\": \"simple\",\n",
    "  \"hard\":\"difficult\",\n",
    "  \"big\": \"huge\", \n",
    "  \"small\": \"tiny\"\n",
    "    \n",
    "    \n",
    "}"
   ]
  },
  {
   "cell_type": "code",
   "execution_count": 45,
   "id": "8e1f9b70",
   "metadata": {},
   "outputs": [
    {
     "name": "stdout",
     "output_type": "stream",
     "text": [
      "amazing\n",
      "simple\n",
      "tiny\n"
     ]
    }
   ],
   "source": [
    "print (synonyms_dic[\"awesome\"])\n",
    "print (synonyms_dic[\"easy\"])\n",
    "print (synonyms_dic[\"small\"])\n"
   ]
  },
  {
   "cell_type": "code",
   "execution_count": 12,
   "id": "2be33df9",
   "metadata": {},
   "outputs": [
    {
     "name": "stdout",
     "output_type": "stream",
     "text": [
      "dict_values(['awful', 'great', 'amazing', 'frigid', 'simple', 'difficult', 'huge', 'tiny'])\n"
     ]
    }
   ],
   "source": [
    "print(synonyms_dic.values())"
   ]
  },
  {
   "cell_type": "code",
   "execution_count": 17,
   "id": "740a9a4a",
   "metadata": {},
   "outputs": [],
   "source": [
    "del(synonyms_dic)\n"
   ]
  },
  {
   "cell_type": "code",
   "execution_count": 52,
   "id": "e47ed20e",
   "metadata": {},
   "outputs": [
    {
     "data": {
      "text/plain": [
       "{'True': 1, 'False': 0}"
      ]
     },
     "execution_count": 52,
     "metadata": {},
     "output_type": "execute_result"
    }
   ],
   "source": [
    "#Q15 Convert the below two lists into dictionary\n",
    "Keys=[\"True\",\"False\"]\n",
    "Values=[1,0]\n",
    "\n",
    "newDic = {}\n",
    "for i in range(len(Keys)):\n",
    "  newDic[Keys[i]] = Values[i];\n",
    "newDic\n",
    "\n"
   ]
  },
  {
   "cell_type": "code",
   "execution_count": 56,
   "id": "9684d01f",
   "metadata": {},
   "outputs": [
    {
     "data": {
      "text/plain": [
       "4480"
      ]
     },
     "execution_count": 56,
     "metadata": {},
     "output_type": "execute_result"
    }
   ],
   "source": [
    "#Q16 Sum all the values in the following dictionary\n",
    "income={'Jan':1000,'Feb':1500,'Mar':980,'April':1000}\n",
    "sum(income.values())\n"
   ]
  },
  {
   "cell_type": "code",
   "execution_count": 59,
   "id": "08f7d99f",
   "metadata": {},
   "outputs": [
    {
     "name": "stdout",
     "output_type": "stream",
     "text": [
      "I am hungry and I want food now\n"
     ]
    }
   ],
   "source": [
    "#Q17 Create the following dictionary encryption={10:\"hungry\", 101:\"am\", 110:\"I\",\n",
    "# What should be the decryption of the following code \"110 101 10 1011 110 1001 1101 11011\"\n",
    "e = {\n",
    "    10:\"hungry\", 101:\"am\", 1001:\"want\",1101:\"food\",110:\"I\",1011:\"and\", 11011:\"now\"\n",
    "\n",
    "}\n",
    "print(e[110]+\" \"+ e[101]+\" \"+ e[10]+\" \"+e[1011]+\" \"+ e[110]+\" \"+ e[1001]+\" \"+ e[1101]+\" \"+ e[11011] )"
   ]
  },
  {
   "cell_type": "code",
   "execution_count": null,
   "id": "e8493f1a",
   "metadata": {},
   "outputs": [],
   "source": []
  }
 ],
 "metadata": {
  "kernelspec": {
   "display_name": "Python 3",
   "language": "python",
   "name": "python3"
  },
  "language_info": {
   "codemirror_mode": {
    "name": "ipython",
    "version": 3
   },
   "file_extension": ".py",
   "mimetype": "text/x-python",
   "name": "python",
   "nbconvert_exporter": "python",
   "pygments_lexer": "ipython3",
   "version": "3.8.8"
  }
 },
 "nbformat": 4,
 "nbformat_minor": 5
}
