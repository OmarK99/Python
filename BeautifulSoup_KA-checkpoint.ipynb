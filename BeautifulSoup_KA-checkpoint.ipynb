{
 "cells": [
  {
   "cell_type": "markdown",
   "id": "bda5d512",
   "metadata": {},
   "source": [
    "![](WS.jpg)"
   ]
  },
  {
   "cell_type": "markdown",
   "id": "b4eec855",
   "metadata": {},
   "source": [
    "## The Components of a Web Page"
   ]
  },
  {
   "cell_type": "markdown",
   "id": "b6b748ce",
   "metadata": {},
   "source": [
    "![](BS.jpg)"
   ]
  },
  {
   "cell_type": "code",
   "execution_count": 2,
   "id": "42e313e3",
   "metadata": {},
   "outputs": [],
   "source": [
    "from bs4 import BeautifulSoup"
   ]
  },
  {
   "cell_type": "code",
   "execution_count": 3,
   "id": "2c422db6",
   "metadata": {},
   "outputs": [
    {
     "name": "stdout",
     "output_type": "stream",
     "text": [
      "<html>\n",
      "<head>\n",
      "<title>A simple example page</title>\n",
      "</head>\n",
      "<body>\n",
      "<p>Here is some simple content for this page.</p>\n",
      "<div class=\"city\">\n",
      "<h2>London</h2>\n",
      "<p>London is the capital of England.</p>\n",
      "</div>\n",
      "<div class=\"country\">\n",
      "<h2>UK and England</h2>\n",
      "<p>England is one country, and the United Kingdom is four countries united together.</p>\n",
      "</div>\n",
      "</body>\n",
      "</html>\n",
      "<html>\n",
      " <head>\n",
      "  <title>\n",
      "   A simple example page\n",
      "  </title>\n",
      " </head>\n",
      " <body>\n",
      "  <p>\n",
      "   Here is some simple content for this page.\n",
      "  </p>\n",
      "  <div class=\"city\">\n",
      "   <h2>\n",
      "    London\n",
      "   </h2>\n",
      "   <p>\n",
      "    London is the capital of England.\n",
      "   </p>\n",
      "  </div>\n",
      "  <div class=\"country\">\n",
      "   <h2>\n",
      "    UK and England\n",
      "   </h2>\n",
      "   <p>\n",
      "    England is one country, and the United Kingdom is four countries united together.\n",
      "   </p>\n",
      "  </div>\n",
      " </body>\n",
      "</html>\n"
     ]
    }
   ],
   "source": [
    "str=\"\"\"<html>\n",
    "<head>\n",
    "<title>A simple example page</title>\n",
    "</head>\n",
    "<body>\n",
    "<p>Here is some simple content for this page.</p>\n",
    "<div class=\"city\">\n",
    "<h2>London</h2>\n",
    "<p>London is the capital of England.</p>\n",
    "</div>\n",
    "<div class=\"country\">\n",
    "<h2>UK and England</h2>\n",
    "<p>England is one country, and the United Kingdom is four countries united together.</p>\n",
    "</div>\n",
    "</body>\n",
    "</html>\"\"\"\n",
    "soup=BeautifulSoup(str,\"html.parser\")\n",
    "print(soup)\n",
    "print(soup.prettify())"
   ]
  },
  {
   "cell_type": "code",
   "execution_count": 4,
   "id": "509d8f7b",
   "metadata": {},
   "outputs": [
    {
     "data": {
      "text/plain": [
       "'\\nHere is some simple content for this page.\\n\\nLondon\\nLondon is the capital of England.\\n\\n\\nUK and England\\nEngland is one country, and the United Kingdom is four countries united together.\\n\\n'"
      ]
     },
     "execution_count": 4,
     "metadata": {},
     "output_type": "execute_result"
    }
   ],
   "source": [
    "soup.body.text"
   ]
  },
  {
   "cell_type": "code",
   "execution_count": 5,
   "id": "a3d363c4",
   "metadata": {},
   "outputs": [
    {
     "data": {
      "text/plain": [
       "'London'"
      ]
     },
     "execution_count": 5,
     "metadata": {},
     "output_type": "execute_result"
    }
   ],
   "source": [
    "soup.h2.text"
   ]
  },
  {
   "cell_type": "code",
   "execution_count": 6,
   "id": "aca0551f",
   "metadata": {},
   "outputs": [
    {
     "data": {
      "text/plain": [
       "'UK and England'"
      ]
     },
     "execution_count": 6,
     "metadata": {},
     "output_type": "execute_result"
    }
   ],
   "source": [
    "soup.find(\"div\",class_=\"country\").h2.text"
   ]
  },
  {
   "cell_type": "code",
   "execution_count": 7,
   "id": "f9302030",
   "metadata": {},
   "outputs": [
    {
     "data": {
      "text/plain": [
       "'England is one country, and the United Kingdom is four countries united together.'"
      ]
     },
     "execution_count": 7,
     "metadata": {},
     "output_type": "execute_result"
    }
   ],
   "source": [
    "soup.find(\"div\",class_=\"country\").p.text"
   ]
  },
  {
   "cell_type": "code",
   "execution_count": 8,
   "id": "71439f56",
   "metadata": {},
   "outputs": [
    {
     "ename": "FileNotFoundError",
     "evalue": "[Errno 2] No such file or directory: 'Test1.html'",
     "output_type": "error",
     "traceback": [
      "\u001b[1;31m---------------------------------------------------------------------------\u001b[0m",
      "\u001b[1;31mFileNotFoundError\u001b[0m                         Traceback (most recent call last)",
      "\u001b[1;32m<ipython-input-8-e48b09ff26f3>\u001b[0m in \u001b[0;36m<module>\u001b[1;34m\u001b[0m\n\u001b[1;32m----> 1\u001b[1;33m \u001b[1;32mwith\u001b[0m \u001b[0mopen\u001b[0m\u001b[1;33m(\u001b[0m\u001b[1;34m\"Test1.html\"\u001b[0m\u001b[1;33m,\u001b[0m\u001b[1;34m\"r\"\u001b[0m\u001b[1;33m)\u001b[0m \u001b[1;32mas\u001b[0m \u001b[0mhtml_doc\u001b[0m\u001b[1;33m:\u001b[0m\u001b[1;33m\u001b[0m\u001b[1;33m\u001b[0m\u001b[0m\n\u001b[0m\u001b[0;32m      2\u001b[0m     \u001b[0msoup\u001b[0m\u001b[1;33m=\u001b[0m\u001b[0mBeautifulSoup\u001b[0m\u001b[1;33m(\u001b[0m\u001b[0mhtml_doc\u001b[0m\u001b[1;33m,\u001b[0m\u001b[1;34m\"html.parser\"\u001b[0m\u001b[1;33m)\u001b[0m\u001b[1;33m\u001b[0m\u001b[1;33m\u001b[0m\u001b[0m\n\u001b[0;32m      3\u001b[0m \u001b[1;31m#print(soup.prettify())\u001b[0m\u001b[1;33m\u001b[0m\u001b[1;33m\u001b[0m\u001b[1;33m\u001b[0m\u001b[0m\n\u001b[0;32m      4\u001b[0m \u001b[0mprint\u001b[0m\u001b[1;33m(\u001b[0m\u001b[0msoup\u001b[0m\u001b[1;33m)\u001b[0m\u001b[1;33m\u001b[0m\u001b[1;33m\u001b[0m\u001b[0m\n",
      "\u001b[1;31mFileNotFoundError\u001b[0m: [Errno 2] No such file or directory: 'Test1.html'"
     ]
    }
   ],
   "source": [
    "with open(\"Test1.html\",\"r\") as html_doc:\n",
    "    soup=BeautifulSoup(html_doc,\"html.parser\") \n",
    "#print(soup.prettify())\n",
    "print(soup)"
   ]
  },
  {
   "cell_type": "code",
   "execution_count": 16,
   "id": "c1489567",
   "metadata": {},
   "outputs": [
    {
     "data": {
      "text/plain": [
       "'Here is some simple content for this page.'"
      ]
     },
     "execution_count": 16,
     "metadata": {},
     "output_type": "execute_result"
    }
   ],
   "source": [
    "soup.head\n",
    "soup.title\n",
    "soup.body\n",
    "soup.body.p.text"
   ]
  },
  {
   "cell_type": "code",
   "execution_count": null,
   "id": "d436fcb7",
   "metadata": {},
   "outputs": [],
   "source": [
    "soup.p"
   ]
  },
  {
   "cell_type": "code",
   "execution_count": null,
   "id": "80b5dd7a",
   "metadata": {},
   "outputs": [],
   "source": [
    "soup.p.text"
   ]
  },
  {
   "cell_type": "code",
   "execution_count": null,
   "id": "eb3942a2",
   "metadata": {},
   "outputs": [],
   "source": [
    "import requests\n",
    "url = 'https://www.google.ca/'\n",
    "reqs = requests.get(url)\n",
    "soup = BeautifulSoup(reqs.text, 'lxml')"
   ]
  },
  {
   "cell_type": "code",
   "execution_count": null,
   "id": "02a342e7",
   "metadata": {},
   "outputs": [],
   "source": [
    "soup.body"
   ]
  }
 ],
 "metadata": {
  "kernelspec": {
   "display_name": "Python 3",
   "language": "python",
   "name": "python3"
  },
  "language_info": {
   "codemirror_mode": {
    "name": "ipython",
    "version": 3
   },
   "file_extension": ".py",
   "mimetype": "text/x-python",
   "name": "python",
   "nbconvert_exporter": "python",
   "pygments_lexer": "ipython3",
   "version": "3.8.8"
  }
 },
 "nbformat": 4,
 "nbformat_minor": 5
}
